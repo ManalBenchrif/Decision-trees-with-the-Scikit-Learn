{
  "nbformat": 4,
  "nbformat_minor": 0,
  "metadata": {
    "colab": {
      "name": "Variables_quantitative.ipynb",
      "provenance": [],
      "collapsed_sections": [],
      "toc_visible": true,
      "authorship_tag": "ABX9TyOVbcOlTQmUKP4Kl/4Ld9KU",
      "include_colab_link": true
    },
    "kernelspec": {
      "name": "python3",
      "display_name": "Python 3"
    },
    "language_info": {
      "name": "python"
    }
  },
  "cells": [
    {
      "cell_type": "markdown",
      "metadata": {
        "id": "view-in-github",
        "colab_type": "text"
      },
      "source": [
        "<a href=\"https://colab.research.google.com/github/ManalBenchrif/Decision-trees-with-the-Scikit-Learn/blob/main/Variables_quantitative.ipynb\" target=\"_parent\"><img src=\"https://colab.research.google.com/assets/colab-badge.svg\" alt=\"Open In Colab\"/></a>"
      ]
    },
    {
      "cell_type": "markdown",
      "metadata": {
        "id": "eXQPi84oQy2i"
      },
      "source": [
        "**Cour 2 :Implémentation des arbres de décision avec la librairie Scikit-Learn | Cas des prédictives exclusivement quantitative**"
      ]
    },
    {
      "cell_type": "markdown",
      "metadata": {
        "id": "FTumshhPQ62h"
      },
      "source": [
        "\n",
        "1.   Installation de scikit-learn (latest version)"
      ]
    },
    {
      "cell_type": "code",
      "metadata": {
        "colab": {
          "base_uri": "https://localhost:8080/"
        },
        "id": "q4GCaIAcPNvV",
        "outputId": "d88ca6e3-166b-41b7-809d-df3ff009827b"
      },
      "source": [
        "pip install --upgrade scikit-learn"
      ],
      "execution_count": null,
      "outputs": [
        {
          "output_type": "stream",
          "name": "stdout",
          "text": [
            "Requirement already satisfied: scikit-learn in /usr/local/lib/python3.7/dist-packages (1.0.1)\n",
            "Requirement already satisfied: scipy>=1.1.0 in /usr/local/lib/python3.7/dist-packages (from scikit-learn) (1.4.1)\n",
            "Requirement already satisfied: numpy>=1.14.6 in /usr/local/lib/python3.7/dist-packages (from scikit-learn) (1.19.5)\n",
            "Requirement already satisfied: threadpoolctl>=2.0.0 in /usr/local/lib/python3.7/dist-packages (from scikit-learn) (3.0.0)\n",
            "Requirement already satisfied: joblib>=0.11 in /usr/local/lib/python3.7/dist-packages (from scikit-learn) (1.0.1)\n"
          ]
        }
      ]
    },
    {
      "cell_type": "code",
      "metadata": {
        "id": "_Fd8Ae7uU_bA"
      },
      "source": [
        "import sklearn\n",
        "print(sklearn.__version__)"
      ],
      "execution_count": null,
      "outputs": []
    },
    {
      "cell_type": "markdown",
      "metadata": {
        "id": "RfuVjF5lUjpX"
      },
      "source": [
        "*install scikit-learn (version 0.23.2)\n"
      ]
    },
    {
      "cell_type": "code",
      "metadata": {
        "colab": {
          "base_uri": "https://localhost:8080/"
        },
        "id": "khjXxp4PT01n",
        "outputId": "07bf035f-1b06-43ee-edd9-4375758a2d75"
      },
      "source": [
        "pip install scikit-learn==0.23.2'"
      ],
      "execution_count": null,
      "outputs": [
        {
          "output_type": "stream",
          "name": "stdout",
          "text": [
            "Requirement already satisfied: scikit-learn==0.23.2 in /usr/local/lib/python3.7/dist-packages (0.23.2)\n",
            "Requirement already satisfied: threadpoolctl>=2.0.0 in /usr/local/lib/python3.7/dist-packages (from scikit-learn==0.23.2) (3.0.0)\n",
            "Requirement already satisfied: numpy>=1.13.3 in /usr/local/lib/python3.7/dist-packages (from scikit-learn==0.23.2) (1.19.5)\n",
            "Requirement already satisfied: scipy>=0.19.1 in /usr/local/lib/python3.7/dist-packages (from scikit-learn==0.23.2) (1.4.1)\n",
            "Requirement already satisfied: joblib>=0.11 in /usr/local/lib/python3.7/dist-packages (from scikit-learn==0.23.2) (1.0.1)\n"
          ]
        }
      ]
    },
    {
      "cell_type": "code",
      "metadata": {
        "colab": {
          "base_uri": "https://localhost:8080/"
        },
        "id": "pMzTIjZ6RLHw",
        "outputId": "c503c4c9-e5c5-48c7-b9c2-ac9b30cdf11d"
      },
      "source": [
        "import sklearn\n",
        "print(sklearn.__version__)"
      ],
      "execution_count": null,
      "outputs": [
        {
          "output_type": "stream",
          "name": "stdout",
          "text": [
            "0.23.2\n"
          ]
        }
      ]
    },
    {
      "cell_type": "markdown",
      "metadata": {
        "id": "D9gGspBXUTQg"
      },
      "source": [
        "\n",
        "2.   Install pandas (latest version)\n"
      ]
    },
    {
      "cell_type": "code",
      "metadata": {
        "colab": {
          "base_uri": "https://localhost:8080/"
        },
        "id": "M--89YbBUSkJ",
        "outputId": "28165652-9907-412d-d384-47c0db19c756"
      },
      "source": [
        "pip install --upgrade pandas\n"
      ],
      "execution_count": null,
      "outputs": [
        {
          "output_type": "stream",
          "name": "stdout",
          "text": [
            "Requirement already satisfied: pandas in /usr/local/lib/python3.7/dist-packages (1.3.4)\n",
            "Requirement already satisfied: python-dateutil>=2.7.3 in /usr/local/lib/python3.7/dist-packages (from pandas) (2.8.2)\n",
            "Requirement already satisfied: pytz>=2017.3 in /usr/local/lib/python3.7/dist-packages (from pandas) (2018.9)\n",
            "Requirement already satisfied: numpy>=1.17.3 in /usr/local/lib/python3.7/dist-packages (from pandas) (1.19.5)\n",
            "Requirement already satisfied: six>=1.5 in /usr/local/lib/python3.7/dist-packages (from python-dateutil>=2.7.3->pandas) (1.15.0)\n"
          ]
        }
      ]
    },
    {
      "cell_type": "code",
      "metadata": {
        "colab": {
          "base_uri": "https://localhost:8080/"
        },
        "id": "pMwuofgMVcaT",
        "outputId": "22979c77-d47f-4d4b-d3d1-eff0ebb6d9d5"
      },
      "source": [
        "import pandas\n",
        "print(pandas.__version__)"
      ],
      "execution_count": null,
      "outputs": [
        {
          "output_type": "stream",
          "name": "stdout",
          "text": [
            "1.3.4\n"
          ]
        }
      ]
    },
    {
      "cell_type": "markdown",
      "metadata": {
        "id": "KbganwbhUg9v"
      },
      "source": [
        "*install pandas (version 1.1.14)*\n",
        "\n",
        "\n",
        "\n"
      ]
    },
    {
      "cell_type": "code",
      "metadata": {
        "colab": {
          "base_uri": "https://localhost:8080/"
        },
        "id": "m3Cf3UTmVet3",
        "outputId": "c3f5b35b-2698-47f3-a30c-cb1533f17757"
      },
      "source": [
        "pip install pandas==1.1.4"
      ],
      "execution_count": null,
      "outputs": [
        {
          "output_type": "stream",
          "name": "stdout",
          "text": [
            "Requirement already satisfied: pandas==1.1.4 in /usr/local/lib/python3.7/dist-packages (1.1.4)\n",
            "Requirement already satisfied: python-dateutil>=2.7.3 in /usr/local/lib/python3.7/dist-packages (from pandas==1.1.4) (2.8.2)\n",
            "Requirement already satisfied: numpy>=1.15.4 in /usr/local/lib/python3.7/dist-packages (from pandas==1.1.4) (1.19.5)\n",
            "Requirement already satisfied: pytz>=2017.2 in /usr/local/lib/python3.7/dist-packages (from pandas==1.1.4) (2018.9)\n",
            "Requirement already satisfied: six>=1.5 in /usr/local/lib/python3.7/dist-packages (from python-dateutil>=2.7.3->pandas==1.1.4) (1.15.0)\n"
          ]
        }
      ]
    },
    {
      "cell_type": "code",
      "metadata": {
        "colab": {
          "base_uri": "https://localhost:8080/"
        },
        "id": "nEaTdca5VeFg",
        "outputId": "b59e985b-bec9-4dc5-9f21-73d63b415d88"
      },
      "source": [
        "import pandas\n",
        "print(pandas.__version__)"
      ],
      "execution_count": null,
      "outputs": [
        {
          "output_type": "stream",
          "name": "stdout",
          "text": [
            "1.1.4\n"
          ]
        }
      ]
    },
    {
      "cell_type": "markdown",
      "metadata": {
        "id": "Ybf5qLiPWHYa"
      },
      "source": [
        "**Construction et représentation d’un arbre avec Scikit-Lear**"
      ]
    },
    {
      "cell_type": "markdown",
      "metadata": {
        "id": "e2wQn0cIWNCS"
      },
      "source": [
        "\n",
        "\n",
        "*   A : Cas des prédictives exclusivement quantitative\n",
        "    1.   Importation et expertise des données \n",
        "\n",
        "\n",
        "\n",
        "\n",
        "\n",
        "\n",
        "\n",
        "\n",
        "\n"
      ]
    },
    {
      "cell_type": "code",
      "metadata": {
        "colab": {
          "base_uri": "https://localhost:8080/"
        },
        "id": "qo5jIj6pWJbm",
        "outputId": "c507a824-3ba8-4011-e3b4-c98a227d6f09"
      },
      "source": [
        "#modifier le working directory\n",
        "#import os\n",
        "#os.chdir(\"... votre dossier de travail ...\")\n",
        "#importer les données – utilisation de la librairie pandas\n",
        "import pandas\n",
        "df = pandas.read_excel(\"breast.xlsx\",sheet_name = 0)\n",
        "#dimension du data frame\n",
        "print(df.shape)\n"
      ],
      "execution_count": null,
      "outputs": [
        {
          "output_type": "stream",
          "name": "stdout",
          "text": [
            "(699, 10)\n"
          ]
        }
      ]
    },
    {
      "cell_type": "code",
      "metadata": {
        "colab": {
          "base_uri": "https://localhost:8080/"
        },
        "id": "FhEpFYm4YcwT",
        "outputId": "0c2b068c-75a9-49e9-94fe-a2b959f8df97"
      },
      "source": [
        "#affichage des premières lignes\n",
        "print(df.head(10))"
      ],
      "execution_count": null,
      "outputs": [
        {
          "output_type": "stream",
          "name": "stdout",
          "text": [
            "   clump  ucellsize  ucellshape  ...  normnucl  mitoses     classe\n",
            "0      5          1           1  ...         1        1     benign\n",
            "1      5          4           4  ...         2        1     benign\n",
            "2      3          1           1  ...         1        1     benign\n",
            "3      6          8           8  ...         7        1     benign\n",
            "4      4          1           1  ...         1        1     benign\n",
            "5      8         10          10  ...         7        1  malignant\n",
            "6      1          1           1  ...         1        1     benign\n",
            "7      2          1           2  ...         1        1     benign\n",
            "8      2          1           1  ...         1        5     benign\n",
            "9      4          2           1  ...         1        1     benign\n",
            "\n",
            "[10 rows x 10 columns]\n"
          ]
        }
      ]
    },
    {
      "cell_type": "code",
      "metadata": {
        "colab": {
          "base_uri": "https://localhost:8080/"
        },
        "id": "80BxZa8rYxJN",
        "outputId": "edb3823f-bd0f-49b8-8db3-fa9582e3ed6f"
      },
      "source": [
        "#information sur le type les variables\n",
        "print(df.info())"
      ],
      "execution_count": null,
      "outputs": [
        {
          "output_type": "stream",
          "name": "stdout",
          "text": [
            "<class 'pandas.core.frame.DataFrame'>\n",
            "RangeIndex: 699 entries, 0 to 698\n",
            "Data columns (total 10 columns):\n",
            " #   Column      Non-Null Count  Dtype \n",
            "---  ------      --------------  ----- \n",
            " 0   clump       699 non-null    int64 \n",
            " 1   ucellsize   699 non-null    int64 \n",
            " 2   ucellshape  699 non-null    int64 \n",
            " 3   mgadhesion  699 non-null    int64 \n",
            " 4   sepics      699 non-null    int64 \n",
            " 5   bnuclei     699 non-null    int64 \n",
            " 6   bchromatin  699 non-null    int64 \n",
            " 7   normnucl    699 non-null    int64 \n",
            " 8   mitoses     699 non-null    int64 \n",
            " 9   classe      699 non-null    object\n",
            "dtypes: int64(9), object(1)\n",
            "memory usage: 54.7+ KB\n",
            "None\n"
          ]
        }
      ]
    },
    {
      "cell_type": "code",
      "metadata": {
        "colab": {
          "base_uri": "https://localhost:8080/"
        },
        "id": "BA9wEE97ZDrd",
        "outputId": "71195333-110c-4707-a675-c2b585dc0398"
      },
      "source": [
        "#vérifier la distribution absolue(la fréquence) des classes\n",
        "print(df.classe.value_counts())"
      ],
      "execution_count": null,
      "outputs": [
        {
          "output_type": "stream",
          "name": "stdout",
          "text": [
            "benign       458\n",
            "malignant    241\n",
            "Name: classe, dtype: int64\n"
          ]
        }
      ]
    },
    {
      "cell_type": "code",
      "metadata": {
        "colab": {
          "base_uri": "https://localhost:8080/"
        },
        "id": "AUELYlC8ZPRi",
        "outputId": "edcdf2ef-e2c8-4576-9ca0-c2c5d90f4399"
      },
      "source": [
        "#la distribution(fréquence) relative  {relative = absolue / nbr obsérvation}\n",
        "print(df.classe.value_counts(normalize=True))"
      ],
      "execution_count": null,
      "outputs": [
        {
          "output_type": "stream",
          "name": "stdout",
          "text": [
            "benign       0.655222\n",
            "malignant    0.344778\n",
            "Name: classe, dtype: float64\n"
          ]
        }
      ]
    },
    {
      "cell_type": "markdown",
      "metadata": {
        "id": "PLPVWolxZy-b"
      },
      "source": [
        "\n",
        "2.  Partition en échantillons d’apprentissage et de test\n"
      ]
    },
    {
      "cell_type": "code",
      "metadata": {
        "id": "3hemr096Zm16"
      },
      "source": [
        "#subdiviser les données en échantillons d'apprentissage et de test\n",
        "from sklearn.model_selection import train_test_split\n",
        "dfTrain, dfTest = train_test_split(df,test_size=300,random_state=1,stratify=df.classe)"
      ],
      "execution_count": null,
      "outputs": []
    },
    {
      "cell_type": "code",
      "metadata": {
        "colab": {
          "base_uri": "https://localhost:8080/"
        },
        "id": "8caWZOaBbt6V",
        "outputId": "70d14b2c-dddf-4a51-b6a7-82b81a7e33e1"
      },
      "source": [
        "#vérification des dimensions des données\n",
        "print(dfTrain.shape) #(399, 10)\n",
        "print(dfTest.shape) #(300, 10)"
      ],
      "execution_count": null,
      "outputs": [
        {
          "output_type": "stream",
          "name": "stdout",
          "text": [
            "(399, 10)\n",
            "(300, 10)\n"
          ]
        }
      ]
    },
    {
      "cell_type": "code",
      "metadata": {
        "colab": {
          "base_uri": "https://localhost:8080/"
        },
        "id": "SRKBjw0Yb5tc",
        "outputId": "7cfec15b-438d-446c-8316-f831fc84df2e"
      },
      "source": [
        "#vérification des distributions relatives des classes en apprentissage\n",
        "print(dfTrain.classe.value_counts(normalize=True))"
      ],
      "execution_count": null,
      "outputs": [
        {
          "output_type": "stream",
          "name": "stdout",
          "text": [
            "benign       0.654135\n",
            "malignant    0.345865\n",
            "Name: classe, dtype: float64\n"
          ]
        }
      ]
    },
    {
      "cell_type": "code",
      "metadata": {
        "colab": {
          "base_uri": "https://localhost:8080/"
        },
        "id": "TQ82bDMscCYZ",
        "outputId": "c5bcba5a-5ff2-40ca-d5ce-eea7813c9ed4"
      },
      "source": [
        "#vérification des distributions en test\n",
        "print(dfTest.classe.value_counts(normalize=True))"
      ],
      "execution_count": null,
      "outputs": [
        {
          "output_type": "stream",
          "name": "stdout",
          "text": [
            "benign       0.656667\n",
            "malignant    0.343333\n",
            "Name: classe, dtype: float64\n"
          ]
        }
      ]
    },
    {
      "cell_type": "markdown",
      "metadata": {
        "id": "Aj2ZV_RrcVM8"
      },
      "source": [
        "\n",
        "3. Instanciation et modélisation\n",
        "\n"
      ]
    },
    {
      "cell_type": "code",
      "metadata": {
        "id": "cHrtx9P_cJJu"
      },
      "source": [
        "#instanciation de l'arbre\n",
        "from sklearn.tree import DecisionTreeClassifier\n",
        "arbreFirst = DecisionTreeClassifier(min_samples_split=30,min_samples_leaf=10)"
      ],
      "execution_count": null,
      "outputs": []
    },
    {
      "cell_type": "code",
      "metadata": {
        "colab": {
          "base_uri": "https://localhost:8080/"
        },
        "id": "pfdI5vjBdGHP",
        "outputId": "496fca47-5f53-4f06-bfeb-5c4adb7829ec"
      },
      "source": [
        "#construction de l'arbre\n",
        "arbreFirst.fit(X = dfTrain.iloc[:,:-1], y = dfTrain.classe)\n",
        "#La console affiche l’ensemble des paramètres utilisés lors de la modélisation."
      ],
      "execution_count": null,
      "outputs": [
        {
          "output_type": "execute_result",
          "data": {
            "text/plain": [
              "DecisionTreeClassifier(min_samples_leaf=10, min_samples_split=30)"
            ]
          },
          "metadata": {},
          "execution_count": 20
        }
      ]
    },
    {
      "cell_type": "markdown",
      "metadata": {
        "id": "yQ3k4g_mdy3W"
      },
      "source": [
        "4.   Affichage graphique de l’arbre\n",
        "\n"
      ]
    },
    {
      "cell_type": "code",
      "metadata": {
        "colab": {
          "base_uri": "https://localhost:8080/",
          "height": 512
        },
        "id": "S-slr0wzdrU7",
        "outputId": "49ba5100-4225-404e-ca0e-a82d407e87d0"
      },
      "source": [
        "#affichage graphique de l'arbre - depuis sklearn 0.21\n",
        "#https://scikit-learn.org/stable/modules/generated/sklearn.tree.plot_tree.html#sklearn.tree.plot_tree\n",
        "from sklearn.tree import plot_tree\n",
        "plot_tree(arbreFirst,feature_names = list(df.columns[:-1]),filled=True) #voi P18 cour pour valeur None\n",
        "#L’outil affiche la description textuelle de l’arbre, puis sous sa forme graphique."
      ],
      "execution_count": null,
      "outputs": [
        {
          "output_type": "execute_result",
          "data": {
            "text/plain": [
              "[Text(200.88000000000002, 195.696, 'ucellsize <= 3.5\\ngini = 0.452\\nsamples = 399\\nvalue = [261, 138]'),\n",
              " Text(133.92000000000002, 152.208, 'bnuclei <= 5.5\\ngini = 0.13\\nsamples = 271\\nvalue = [252, 19]'),\n",
              " Text(100.44000000000001, 108.72, 'normnucl <= 2.5\\ngini = 0.053\\nsamples = 258\\nvalue = [251, 7]'),\n",
              " Text(66.96000000000001, 65.232, 'clump <= 5.5\\ngini = 0.016\\nsamples = 244\\nvalue = [242, 2]'),\n",
              " Text(33.480000000000004, 21.744, 'gini = 0.0\\nsamples = 234\\nvalue = [234, 0]'),\n",
              " Text(100.44000000000001, 21.744, 'gini = 0.32\\nsamples = 10\\nvalue = [8, 2]'),\n",
              " Text(133.92000000000002, 65.232, 'gini = 0.459\\nsamples = 14\\nvalue = [9, 5]'),\n",
              " Text(167.40000000000003, 108.72, 'gini = 0.142\\nsamples = 13\\nvalue = [1, 12]'),\n",
              " Text(267.84000000000003, 152.208, 'bnuclei <= 8.5\\ngini = 0.131\\nsamples = 128\\nvalue = [9, 119]'),\n",
              " Text(234.36, 108.72, 'clump <= 6.5\\ngini = 0.278\\nsamples = 54\\nvalue = [9, 45]'),\n",
              " Text(200.88000000000002, 65.232, 'gini = 0.454\\nsamples = 23\\nvalue = [8, 15]'),\n",
              " Text(267.84000000000003, 65.232, 'bnuclei <= 6.5\\ngini = 0.062\\nsamples = 31\\nvalue = [1, 30]'),\n",
              " Text(234.36, 21.744, 'gini = 0.0\\nsamples = 21\\nvalue = [0, 21]'),\n",
              " Text(301.32000000000005, 21.744, 'gini = 0.18\\nsamples = 10\\nvalue = [1, 9]'),\n",
              " Text(301.32000000000005, 108.72, 'gini = 0.0\\nsamples = 74\\nvalue = [0, 74]')]"
            ]
          },
          "metadata": {},
          "execution_count": 21
        },
        {
          "output_type": "display_data",
          "data": {
            "image/png": "[encoded data removed]",
            "text/plain": [
              "<Figure size 432x288 with 1 Axes>"
            ]
          },
          "metadata": {
            "needs_background": "light"
          }
        }
      ]
    },
    {
      "cell_type": "markdown",
      "metadata": {
        "id": "it0pHbwmqYZ9"
      },
      "source": [
        "*=> Augmenter la taille d'affchage de l'arbre*"
      ]
    },
    {
      "cell_type": "code",
      "metadata": {
        "colab": {
          "base_uri": "https://localhost:8080/",
          "height": 575
        },
        "id": "pR9coQxqetEI",
        "outputId": "c39c06cf-91f5-4fdd-fb7f-b0a3b8d89762"
      },
      "source": [
        "import matplotlib.pyplot as plt\n",
        "plt.figure(figsize=(10,10))\n",
        "plot_tree(arbreFirst,feature_names = list(df.columns[:-1]),filled=True)\n",
        "plt.show()"
      ],
      "execution_count": null,
      "outputs": [
        {
          "output_type": "display_data",
          "data": {
            "image/png": "[encoded data removed]",
            "text/plain": [
              "<Figure size 720x720 with 1 Axes>"
            ]
          },
          "metadata": {
            "needs_background": "light"
          }
        }
      ]
    },
    {
      "cell_type": "markdown",
      "metadata": {
        "id": "8KLS3oYMkv28"
      },
      "source": [
        "5.   Affichage sous forme de règles imbriquées de l’arbre\n",
        "\n"
      ]
    },
    {
      "cell_type": "code",
      "metadata": {
        "colab": {
          "base_uri": "https://localhost:8080/"
        },
        "id": "M27EIK0nkynF",
        "outputId": "8808c0cf-f1a2-46c1-e05c-0301b536aa8c"
      },
      "source": [
        "#affichage sous forme de règles\n",
        "#plus facile à appréhender quand l'arbre est très grand\n",
        "from sklearn.tree import export_text\n",
        "tree_rules = export_text(arbreFirst,feature_names = list(df.columns[:-1]),show_weights=True)\n",
        "print(tree_rules)"
      ],
      "execution_count": null,
      "outputs": [
        {
          "output_type": "stream",
          "name": "stdout",
          "text": [
            "|--- ucellsize <= 3.50\n",
            "|   |--- bnuclei <= 5.50\n",
            "|   |   |--- normnucl <= 2.50\n",
            "|   |   |   |--- clump <= 5.50\n",
            "|   |   |   |   |--- weights: [234.00, 0.00] class: benign\n",
            "|   |   |   |--- clump >  5.50\n",
            "|   |   |   |   |--- weights: [8.00, 2.00] class: benign\n",
            "|   |   |--- normnucl >  2.50\n",
            "|   |   |   |--- weights: [9.00, 5.00] class: benign\n",
            "|   |--- bnuclei >  5.50\n",
            "|   |   |--- weights: [1.00, 12.00] class: malignant\n",
            "|--- ucellsize >  3.50\n",
            "|   |--- bnuclei <= 8.50\n",
            "|   |   |--- clump <= 6.50\n",
            "|   |   |   |--- weights: [8.00, 15.00] class: malignant\n",
            "|   |   |--- clump >  6.50\n",
            "|   |   |   |--- bnuclei <= 6.50\n",
            "|   |   |   |   |--- weights: [0.00, 21.00] class: malignant\n",
            "|   |   |   |--- bnuclei >  6.50\n",
            "|   |   |   |   |--- weights: [1.00, 9.00] class: malignant\n",
            "|   |--- bnuclei >  8.50\n",
            "|   |   |--- weights: [0.00, 74.00] class: malignant\n",
            "\n"
          ]
        }
      ]
    },
    {
      "cell_type": "markdown",
      "metadata": {
        "id": "zemmbOS8nD6a"
      },
      "source": [
        "6.   Importance des variables\n",
        "\n",
        "\n"
      ]
    },
    {
      "cell_type": "code",
      "metadata": {
        "colab": {
          "base_uri": "https://localhost:8080/"
        },
        "id": "71vApUnDnDmJ",
        "outputId": "5be9c405-89b6-4ed5-8aee-5c6b0b50c7de"
      },
      "source": [
        "#importance des variables\n",
        "impVarFirst={\"Variable\":df.columns[:-1],\"Importance\":arbreFirst.feature_importances_}\n",
        "print(pandas.DataFrame(impVarFirst).sort_values(by=\"Importance\",ascending=False))"
      ],
      "execution_count": null,
      "outputs": [
        {
          "output_type": "stream",
          "name": "stdout",
          "text": [
            "<class 'dict'>\n",
            "     Variable  Importance\n",
            "1   ucellsize    0.819165\n",
            "5     bnuclei    0.138616\n",
            "0       clump    0.021660\n",
            "7    normnucl    0.020559\n",
            "2  ucellshape    0.000000\n",
            "3  mgadhesion    0.000000\n",
            "4      sepics    0.000000\n",
            "6  bchromatin    0.000000\n",
            "8     mitoses    0.000000\n"
          ]
        }
      ]
    },
    {
      "cell_type": "markdown",
      "metadata": {
        "id": "Atpzzv_uqODk"
      },
      "source": [
        "7.   Evaluation en test\n",
        "    *   Prédiction en test\n",
        "\n",
        "\n",
        "\n",
        "\n"
      ]
    },
    {
      "cell_type": "code",
      "metadata": {
        "colab": {
          "base_uri": "https://localhost:8080/"
        },
        "id": "A4UVmjJ2qTJe",
        "outputId": "d35f2269-20a9-4130-ea06-1cadadffb8ed"
      },
      "source": [
        "#prédiction sur l'échantillon test\n",
        "predFirst = arbreFirst.predict(X=dfTest.iloc[:,:-1])\n",
        "#print(predFirst) #return list of element\n",
        "#distribution des predictions\n",
        "import numpy\n",
        "print(numpy.unique(predFirst,return_counts=True))\n"
      ],
      "execution_count": null,
      "outputs": [
        {
          "output_type": "stream",
          "name": "stdout",
          "text": [
            "(array(['benign', 'malignant'], dtype=object), array([199, 101]))\n"
          ]
        }
      ]
    },
    {
      "cell_type": "markdown",
      "metadata": {
        "id": "AGJtXAaCrgyQ"
      },
      "source": [
        "\n",
        "*   Matrice de confusion (pour évaluation des classifieurs)\n",
        "\n"
      ]
    },
    {
      "cell_type": "code",
      "metadata": {
        "colab": {
          "base_uri": "https://localhost:8080/"
        },
        "id": "xPN0aHaBre-Y",
        "outputId": "1f4b8832-1dda-4c34-b817-21d6641ab5d7"
      },
      "source": [
        "#matrice de confusion\n",
        "from sklearn import metrics\n",
        "print(metrics.confusion_matrix(dfTest.classe,predFirst))"
      ],
      "execution_count": null,
      "outputs": [
        {
          "output_type": "stream",
          "name": "stdout",
          "text": [
            "[[191   6]\n",
            " [  8  95]]\n"
          ]
        }
      ]
    },
    {
      "cell_type": "markdown",
      "metadata": {
        "id": "EdX5lrDksZU9"
      },
      "source": [
        "*   Indicateurs de performances usuels\n",
        "\n"
      ]
    },
    {
      "cell_type": "code",
      "metadata": {
        "colab": {
          "base_uri": "https://localhost:8080/"
        },
        "id": "fhTZfVwMsdBi",
        "outputId": "9dc0d831-d9ca-40a1-854b-73df45ff8832"
      },
      "source": [
        "#taux de reconnaissances – (189+93)/300\n",
        "print(metrics.accuracy_score(dfTest.classe,predFirst))"
      ],
      "execution_count": null,
      "outputs": [
        {
          "output_type": "stream",
          "name": "stdout",
          "text": [
            "0.9533333333333334\n"
          ]
        }
      ]
    },
    {
      "cell_type": "code",
      "metadata": {
        "colab": {
          "base_uri": "https://localhost:8080/"
        },
        "id": "bb3mnP0msryt",
        "outputId": "f10ba0bd-ff58-4b2c-fc98-52f68eed4bba"
      },
      "source": [
        "#taux d'erreur – (10+8)/300\n",
        "print(1.0 - metrics.accuracy_score(dfTest.classe,predFirst))"
      ],
      "execution_count": null,
      "outputs": [
        {
          "output_type": "stream",
          "name": "stdout",
          "text": [
            "0.046666666666666634\n"
          ]
        }
      ]
    },
    {
      "cell_type": "code",
      "metadata": {
        "colab": {
          "base_uri": "https://localhost:8080/"
        },
        "id": "17b4YVDYs172",
        "outputId": "114f2568-21cd-4a04-ab51-bbaeb1688faf"
      },
      "source": [
        "#rappel – sensibilité – 93/(10+93) {si ‘’classe = mailgnant’’ est la modalité cible}\n",
        "print(metrics.recall_score(dfTest.classe,predFirst,pos_label='malignant'))"
      ],
      "execution_count": null,
      "outputs": [
        {
          "output_type": "stream",
          "name": "stdout",
          "text": [
            "0.9223300970873787\n"
          ]
        }
      ]
    },
    {
      "cell_type": "code",
      "metadata": {
        "colab": {
          "base_uri": "https://localhost:8080/"
        },
        "id": "mp6STqoxtGo0",
        "outputId": "3bbb7f10-b488-495e-cd66-98fa73fa824c"
      },
      "source": [
        "#précision – 93/(8+93)\n",
        "print(metrics.precision_score(dfTest.classe,predFirst,pos_label='malignant'))"
      ],
      "execution_count": null,
      "outputs": [
        {
          "output_type": "stream",
          "name": "stdout",
          "text": [
            "0.9405940594059405\n"
          ]
        }
      ]
    },
    {
      "cell_type": "code",
      "metadata": {
        "colab": {
          "base_uri": "https://localhost:8080/"
        },
        "id": "Zk1uXJP2tQNc",
        "outputId": "aae9b0b6-b09d-4e41-ea63-7ac82bfface4"
      },
      "source": [
        "#F1-score = moyenne harmonique entre rappel et précision \n",
        "print(metrics.f1_score(dfTest.classe,predFirst,pos_label='malignant'))"
      ],
      "execution_count": null,
      "outputs": [
        {
          "output_type": "stream",
          "name": "stdout",
          "text": [
            "0.9313725490196079\n"
          ]
        }
      ]
    },
    {
      "cell_type": "code",
      "metadata": {
        "colab": {
          "base_uri": "https://localhost:8080/"
        },
        "id": "SCc8aB4Qt9RL",
        "outputId": "a4658c47-a48d-48cb-c5b7-0a1985893ace"
      },
      "source": [
        "#rapport de prédiction\n",
        "print(metrics.classification_report(dfTest.classe,predFirst))"
      ],
      "execution_count": null,
      "outputs": [
        {
          "output_type": "stream",
          "name": "stdout",
          "text": [
            "              precision    recall  f1-score   support\n",
            "\n",
            "      benign       0.96      0.97      0.96       197\n",
            "   malignant       0.94      0.92      0.93       103\n",
            "\n",
            "    accuracy                           0.95       300\n",
            "   macro avg       0.95      0.95      0.95       300\n",
            "weighted avg       0.95      0.95      0.95       300\n",
            "\n"
          ]
        }
      ]
    },
    {
      "cell_type": "markdown",
      "metadata": {
        "id": "ICsLnGtIuwQl"
      },
      "source": [
        "8.   Modification des paramètres d’apprentissag\n",
        "\n"
      ]
    },
    {
      "cell_type": "code",
      "metadata": {
        "colab": {
          "base_uri": "https://localhost:8080/",
          "height": 336
        },
        "id": "LA-UYoRXu0Qg",
        "outputId": "fbe16bee-c8ac-44f3-b8e2-c39ca5214eb2"
      },
      "source": [
        "#modifier les paramètres d'apprentissage\n",
        "arbreSecond = DecisionTreeClassifier(min_samples_split=30,min_samples_leaf=10,max_leaf_nodes=3)\n",
        "#construction de l'arbre\n",
        "arbreSecond.fit(X = dfTrain.iloc[:,:-1], y = dfTrain.classe)\n",
        "#affichage graphique de l'arbre\n",
        "plot_tree(arbreSecond,feature_names = list(df.columns[:-1]),filled=True)\n"
      ],
      "execution_count": null,
      "outputs": [
        {
          "output_type": "execute_result",
          "data": {
            "text/plain": [
              "[Text(200.88000000000002, 181.2, 'ucellsize <= 3.5\\ngini = 0.452\\nsamples = 399\\nvalue = [261, 138]'),\n",
              " Text(133.92000000000002, 108.72, 'bnuclei <= 5.5\\ngini = 0.13\\nsamples = 271\\nvalue = [252, 19]'),\n",
              " Text(66.96000000000001, 36.23999999999998, 'gini = 0.053\\nsamples = 258\\nvalue = [251, 7]'),\n",
              " Text(200.88000000000002, 36.23999999999998, 'gini = 0.142\\nsamples = 13\\nvalue = [1, 12]'),\n",
              " Text(267.84000000000003, 108.72, 'gini = 0.131\\nsamples = 128\\nvalue = [9, 119]')]"
            ]
          },
          "metadata": {},
          "execution_count": 42
        },
        {
          "output_type": "display_data",
          "data": {
            "image/png": "[encoded data removed]",
            "text/plain": [
              "<Figure size 432x288 with 1 Axes>"
            ]
          },
          "metadata": {
            "needs_background": "light"
          }
        }
      ]
    },
    {
      "cell_type": "code",
      "metadata": {
        "colab": {
          "base_uri": "https://localhost:8080/"
        },
        "id": "QhPR2UG3vHHq",
        "outputId": "2317bdd5-5f1e-4102-f6d5-ba1c1f8c7576"
      },
      "source": [
        "#prédiction sur l'échantillon test\n",
        "predSecond = arbreSecond.predict(X=dfTest.iloc[:,:-1])\n",
        "#matrice de confusion\n",
        "print(metrics.confusion_matrix(dfTest.classe,predSecond))\n"
      ],
      "execution_count": null,
      "outputs": [
        {
          "output_type": "stream",
          "name": "stdout",
          "text": [
            "[[191   6]\n",
            " [  8  95]]\n"
          ]
        }
      ]
    },
    {
      "cell_type": "code",
      "metadata": {
        "colab": {
          "base_uri": "https://localhost:8080/"
        },
        "id": "GjE4jAF4vO68",
        "outputId": "21e5913e-6532-47ea-b368-01dddf3064a3"
      },
      "source": [
        "#taux de reconnaissance\n",
        "print(metrics.accuracy_score(dfTest.classe,predSecond))"
      ],
      "execution_count": null,
      "outputs": [
        {
          "output_type": "stream",
          "name": "stdout",
          "text": [
            "0.9533333333333334\n"
          ]
        }
      ]
    },
    {
      "cell_type": "code",
      "metadata": {
        "id": "hhnu_-zMzcR9",
        "colab": {
          "base_uri": "https://localhost:8080/"
        },
        "outputId": "56015ec9-24da-4bc9-8992-231234754f12"
      },
      "source": [
        "#rapport de prédiction\n",
        "print(metrics.classification_report(dfTest.classe,predFirst))"
      ],
      "execution_count": null,
      "outputs": [
        {
          "output_type": "stream",
          "name": "stdout",
          "text": [
            "              precision    recall  f1-score   support\n",
            "\n",
            "      benign       0.96      0.97      0.96       197\n",
            "   malignant       0.94      0.92      0.93       103\n",
            "\n",
            "    accuracy                           0.95       300\n",
            "   macro avg       0.95      0.95      0.95       300\n",
            "weighted avg       0.95      0.95      0.95       300\n",
            "\n"
          ]
        }
      ]
    }
  ]
}